{
 "cells": [
  {
   "cell_type": "code",
   "execution_count": 1,
   "metadata": {},
   "outputs": [
    {
     "name": "stdout",
     "output_type": "stream",
     "text": [
      "Fetching content from: https://www.example.com\n",
      "Fetching content from: https://www.python.org\n",
      "\n",
      "Results for https://www.example.com:\n",
      "  python: 0 occurrences\n",
      "  programming: 0 occurrences\n",
      "  language: 0 occurrences\n",
      "  example: 4 occurrences\n",
      "\n",
      "Results for https://www.python.org:\n",
      "  python: 187 occurrences\n",
      "  programming: 9 occurrences\n",
      "  language: 12 occurrences\n",
      "  example: 0 occurrences\n"
     ]
    }
   ],
   "source": [
    "import requests\n",
    "from bs4 import BeautifulSoup\n",
    "\n",
    "# Function to get the content of a webpage\n",
    "def fetch_webpage_content(url):\n",
    "    try:\n",
    "        response = requests.get(url)\n",
    "        if response.status_code == 200:\n",
    "            return response.text\n",
    "        else:\n",
    "            print(f\"Failed to fetch {url}. Status code: {response.status_code}\")\n",
    "            return None\n",
    "    except Exception as e:\n",
    "        print(f\"An error occurred: {e}\")\n",
    "        return None\n",
    "\n",
    "# Function to search for words in a webpage\n",
    "def search_words_in_webpage(content, words):\n",
    "    result = {}\n",
    "    for word in words:\n",
    "        count = content.lower().count(word.lower())\n",
    "        result[word] = count\n",
    "    return result\n",
    "\n",
    "# Main function\n",
    "def crawl_webpages(webpages, word_list):\n",
    "    results = {}\n",
    "    for webpage in webpages:\n",
    "        print(f\"Fetching content from: {webpage}\")\n",
    "        content = fetch_webpage_content(webpage)\n",
    "        \n",
    "        if content:\n",
    "            word_count = search_words_in_webpage(content, word_list)\n",
    "            results[webpage] = word_count\n",
    "\n",
    "    return results\n",
    "\n",
    "# Example usage\n",
    "if __name__ == \"__main__\":\n",
    "    # List of webpages to crawl\n",
    "    webpages = [\n",
    "        'https://www.example.com',\n",
    "        'https://www.python.org',\n",
    "        # Add more URLs here\n",
    "    ]\n",
    "    \n",
    "    # List of words to search for\n",
    "    word_list = ['python', 'programming', 'language', 'example']\n",
    "    \n",
    "    # Crawling the webpages\n",
    "    results = crawl_webpages(webpages, word_list)\n",
    "    \n",
    "    # Displaying the results\n",
    "    for webpage, word_count in results.items():\n",
    "        print(f\"\\nResults for {webpage}:\")\n",
    "        for word, count in word_count.items():\n",
    "            print(f\"  {word}: {count} occurrences\")"
   ]
  }
 ],
 "metadata": {
  "kernelspec": {
   "display_name": ".venv",
   "language": "python",
   "name": "python3"
  },
  "language_info": {
   "codemirror_mode": {
    "name": "ipython",
    "version": 3
   },
   "file_extension": ".py",
   "mimetype": "text/x-python",
   "name": "python",
   "nbconvert_exporter": "python",
   "pygments_lexer": "ipython3",
   "version": "3.12.5"
  }
 },
 "nbformat": 4,
 "nbformat_minor": 2
}
